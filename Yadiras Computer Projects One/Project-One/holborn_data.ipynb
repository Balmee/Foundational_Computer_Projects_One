{
 "cells": [
  {
   "cell_type": "code",
   "execution_count": 1,
   "metadata": {},
   "outputs": [],
   "source": [
    "import pandas as pd"
   ]
  },
  {
   "cell_type": "code",
   "execution_count": 2,
   "metadata": {},
   "outputs": [
    {
     "name": "stdout",
     "output_type": "stream",
     "text": [
      "Requirement already satisfied: pandas in c:\\users\\user\\anaconda3\\envs\\myenv\\lib\\site-packages (2.1.1)\n",
      "Requirement already satisfied: numpy>=1.22.4 in c:\\users\\user\\anaconda3\\envs\\myenv\\lib\\site-packages (from pandas) (1.26.0)\n",
      "Requirement already satisfied: python-dateutil>=2.8.2 in c:\\users\\user\\anaconda3\\envs\\myenv\\lib\\site-packages (from pandas) (2.8.2)\n",
      "Requirement already satisfied: pytz>=2020.1 in c:\\users\\user\\anaconda3\\envs\\myenv\\lib\\site-packages (from pandas) (2023.3.post1)\n",
      "Requirement already satisfied: tzdata>=2022.1 in c:\\users\\user\\anaconda3\\envs\\myenv\\lib\\site-packages (from pandas) (2023.3)\n",
      "Requirement already satisfied: six>=1.5 in c:\\users\\user\\anaconda3\\envs\\myenv\\lib\\site-packages (from python-dateutil>=2.8.2->pandas) (1.16.0)\n",
      "Note: you may need to restart the kernel to use updated packages.\n"
     ]
    }
   ],
   "source": [
    "pip install pandas"
   ]
  },
  {
   "cell_type": "code",
   "execution_count": 3,
   "metadata": {},
   "outputs": [],
   "source": [
    "# Given data\n",
    "data = {\n",
    "    \"Business Name\": [\"Beanbury\", \"Pret\", \"Starbucks\", \"Gregs\", \"Benugo\", \"Leon\", \"Gails\", \"Pho 82\"],\n",
    "    \"Postcode\": [\"WC1V 7EY\", \"WC1V 7EY\", \"WC1V 7EY\", \"WC1V 6DR\", \"EC1N 2NS\", \"WC1V 6AZ\", \"WC1V 6LS\", \"WC1V 7DX\"],\n",
    "    \"Phone Number\": [\"N/A\", \"N/A\", \"N/A\", \"N/A\", \"N/A\", \"N/A\", \"N/A\", \"02033026890\"],\n",
    "    \"Social Media\": [\"N/A\", \"Instagram.com/pret\", \"Instagram.com/starbucks\", \"Instagram.com/gregs\", \"Instagram.com/benugo\", \"Instagram.com/leonrestaurants\", \"Instagram.com/gails\", \"N/A\"],\n",
    "    \"Mon Hours\": [\"7AM-7PM\", \"6.30AM-7PM\", \"6AM-7PM\", \"6AM-6PM\", \"7.30AM-5PM\", \"7.30AM-6PM\", \"6.30AM-5.30PM\", \"11AM-5PM\"],\n",
    "    \"Tue Hours\": [\"7AM-7PM\", \"6.30AM-7PM\", \"6AM-7PM\", \"6AM-6PM\", \"7.30AM-5PM\", \"7.30AM-6PM\", \"6.30AM-5.30PM\", \"11AM-5PM\"],\n",
    "    \"Wed Hours\": [\"7AM-7PM\", \"6.30AM-7PM\", \"6AM-7PM\", \"6AM-6PM\", \"7.30AM-5PM\", \"7.30AM-6PM\", \"6.30AM-5.30PM\", \"11AM-5PM\"],\n",
    "    \"Thu Hours\": [\"7AM-7PM\", \"6.30AM-7PM\", \"6AM-7PM\", \"6AM-6PM\", \"7.30AM-5PM\", \"7.30AM-6PM\", \"6.30AM-5.30PM\", \"11AM-5PM\"],\n",
    "    \"Fri Hours\": [\"7AM-7PM\", \"6.30AM-5.30PM\", \"6AM-7PM\", \"6AM-6PM\", \"7.30AM-4PM\", \"7.30AM-6PM\",\"7AM-4.30PM\", \"11AM-5PM\"],\n",
    "    \"Sat Hours\": [\"10AM-5PM\", \"8.30AM-5PM\", \"7AM-7PM\", \"7AM-4PM\", \"Closed\", \"Closed\", \"8AM-4.30PM\", \"Closed\"],\n",
    "    \"Sun Hours\": [\"10AM-5PM\", \"Closed\", \"9AM-5AM\", \"Closed\", \"Closed\", \"Closed\", \"8AM-4.30PM\", \"Closed\"]\n",
    "}"
   ]
  },
  {
   "cell_type": "code",
   "execution_count": 4,
   "metadata": {},
   "outputs": [],
   "source": [
    "# Create a Pandas DataFrame\n",
    "df = pd.DataFrame(data)"
   ]
  },
  {
   "cell_type": "code",
   "execution_count": 5,
   "metadata": {},
   "outputs": [],
   "source": [
    "# Standardize data\n",
    "df[\"Postcode\"] = df[\"Postcode\"].str.replace(\" \", \"\").str.upper()\n",
    "df[\"Phone Number\"] = df[\"Phone Number\"].str.replace(\" \", \"\").str.replace(\"-\", \"\", regex=True)\n",
    "df[\"Social Media\"] = df[\"Social Media\"].str.replace(\"www.\", \"\", regex=True)\n"
   ]
  },
  {
   "cell_type": "code",
   "execution_count": 6,
   "metadata": {},
   "outputs": [],
   "source": [
    "import re"
   ]
  },
  {
   "cell_type": "code",
   "execution_count": 7,
   "metadata": {},
   "outputs": [],
   "source": [
    "# Renaming columns for clarity\n",
    "df.columns = [\"Business Name\", \"Postcode\", \"Phone Number\", \"Social Media\", \"Mon\", \"Tue\", \"Wed\", \"Thu\", \"Fri\", \"Sat\", \"Sun\"]"
   ]
  },
  {
   "cell_type": "code",
   "execution_count": 8,
   "metadata": {},
   "outputs": [
    {
     "name": "stdout",
     "output_type": "stream",
     "text": [
      "  Business Name Postcode Phone Number                   Social Media  \\\n",
      "0      Beanbury  WC1V7EY          N/A                            N/A   \n",
      "1          Pret  WC1V7EY          N/A             Instagram.com/pret   \n",
      "2     Starbucks  WC1V7EY          N/A        Instagram.com/starbucks   \n",
      "3         Gregs  WC1V6DR          N/A            Instagram.com/gregs   \n",
      "4        Benugo  EC1N2NS          N/A           Instagram.com/benugo   \n",
      "5          Leon  WC1V6AZ          N/A  Instagram.com/leonrestaurants   \n",
      "6         Gails  WC1V6LS          N/A            Instagram.com/gails   \n",
      "7        Pho 82  WC1V7DX  02033026890                            N/A   \n",
      "\n",
      "             Mon            Tue            Wed            Thu            Fri  \\\n",
      "0        7AM-7PM        7AM-7PM        7AM-7PM        7AM-7PM        7AM-7PM   \n",
      "1     6.30AM-7PM     6.30AM-7PM     6.30AM-7PM     6.30AM-7PM  6.30AM-5.30PM   \n",
      "2        6AM-7PM        6AM-7PM        6AM-7PM        6AM-7PM        6AM-7PM   \n",
      "3        6AM-6PM        6AM-6PM        6AM-6PM        6AM-6PM        6AM-6PM   \n",
      "4     7.30AM-5PM     7.30AM-5PM     7.30AM-5PM     7.30AM-5PM     7.30AM-4PM   \n",
      "5     7.30AM-6PM     7.30AM-6PM     7.30AM-6PM     7.30AM-6PM     7.30AM-6PM   \n",
      "6  6.30AM-5.30PM  6.30AM-5.30PM  6.30AM-5.30PM  6.30AM-5.30PM     7AM-4.30PM   \n",
      "7       11AM-5PM       11AM-5PM       11AM-5PM       11AM-5PM       11AM-5PM   \n",
      "\n",
      "          Sat         Sun  \n",
      "0    10AM-5PM    10AM-5PM  \n",
      "1  8.30AM-5PM      Closed  \n",
      "2     7AM-7PM     9AM-5AM  \n",
      "3     7AM-4PM      Closed  \n",
      "4      Closed      Closed  \n",
      "5      Closed      Closed  \n",
      "6  8AM-4.30PM  8AM-4.30PM  \n",
      "7      Closed      Closed  \n"
     ]
    }
   ],
   "source": [
    "# Standardized DataFrame\n",
    "print(df)"
   ]
  },
  {
   "attachments": {},
   "cell_type": "markdown",
   "metadata": {},
   "source": [
    "This was the out out from the last cell"
   ]
  },
  {
   "cell_type": "code",
   "execution_count": 9,
   "metadata": {},
   "outputs": [
    {
     "name": "stdout",
     "output_type": "stream",
     "text": [
      "Requirement already satisfied: openpyxl in c:\\users\\user\\anaconda3\\envs\\myenv\\lib\\site-packages (3.1.2)\n",
      "Requirement already satisfied: et-xmlfile in c:\\users\\user\\anaconda3\\envs\\myenv\\lib\\site-packages (from openpyxl) (1.1.0)\n",
      "Note: you may need to restart the kernel to use updated packages.\n"
     ]
    }
   ],
   "source": [
    "pip install openpyxl\n"
   ]
  },
  {
   "cell_type": "code",
   "execution_count": 10,
   "metadata": {},
   "outputs": [],
   "source": [
    "# Write DataFrame to an Excel file\n",
    "df.to_csv('output.csv', index=False)\n"
   ]
  }
 ],
 "metadata": {
  "kernelspec": {
   "display_name": "Python 3",
   "language": "python",
   "name": "python3"
  },
  "language_info": {
   "codemirror_mode": {
    "name": "ipython",
    "version": 3
   },
   "file_extension": ".py",
   "mimetype": "text/x-python",
   "name": "python",
   "nbconvert_exporter": "python",
   "pygments_lexer": "ipython3",
   "version": "3.10.13"
  },
  "orig_nbformat": 4,
  "vscode": {
   "interpreter": {
    "hash": "f94eebbdbcbf9e465c0fffd07e44f9c0ed7d85636a5e85396baa8bc5d92682ab"
   }
  }
 },
 "nbformat": 4,
 "nbformat_minor": 2
}
